{
 "cells": [
  {
   "cell_type": "code",
   "execution_count": 24,
   "id": "f521c442-185b-4165-9da1-600f5829c13e",
   "metadata": {},
   "outputs": [],
   "source": [
    "from pyspark.sql import SparkSession\n",
    "\n",
    "spark = SparkSession.builder \\\n",
    "    .appName(\"KafkaPySparkIntegration\") \\\n",
    "    .config(\"spark.jars.packages\", \"org.apache.spark:spark-sql-kafka-0-10_2.12:3.1.2\") \\\n",
    "    .getOrCreate()\n"
   ]
  },
  {
   "cell_type": "code",
   "execution_count": 25,
   "id": "fa9b83db-74c8-4f75-8307-6cfd612f42e4",
   "metadata": {},
   "outputs": [],
   "source": [
    "# Set Spark logging level to \"ERROR\" to reduce log output\n",
    "spark.sparkContext.setLogLevel(\"ERROR\")\n"
   ]
  },
  {
   "cell_type": "code",
   "execution_count": 26,
   "id": "d2620faf-e8d8-4727-93c0-d06b441ffa5d",
   "metadata": {},
   "outputs": [],
   "source": [
    "topic_nm = \"your_topic_name\"\n",
    "#topic_nm = \"new_topic_name\""
   ]
  },
  {
   "cell_type": "code",
   "execution_count": 27,
   "id": "75da2889-00d0-4e91-ae62-96577a1f35fc",
   "metadata": {},
   "outputs": [
    {
     "name": "stderr",
     "output_type": "stream",
     "text": [
      "[Stage 0:>                                                          (0 + 1) / 1]\r"
     ]
    }
   ],
   "source": [
    "df = spark.readStream \\\n",
    "    .format(\"kafka\") \\\n",
    "    .option(\"kafka.bootstrap.servers\", \"localhost:9092\") \\\n",
    "    .option(\"subscribe\", topic_nm) \\\n",
    "    .load()\n"
   ]
  },
  {
   "cell_type": "markdown",
   "id": "a5b0f2bb-3426-4d4b-9d41-0086ec1950b6",
   "metadata": {},
   "source": [
    "\n",
    "\n",
    "./kafka-console-producer.sh --broker-list localhost:9092 --topic my-topic --property \"parse.key=true\" -\n",
    "-property \"key.separator=:\"\n",
    "\n",
    "myKey1:Hello Kafka from PySpark\n",
    "myKey2:Another message\n"
   ]
  },
  {
   "cell_type": "code",
   "execution_count": 28,
   "id": "26b50cdd-5530-453a-bf5f-29c83956cd72",
   "metadata": {},
   "outputs": [],
   "source": [
    "from pyspark.sql.functions import col, from_json, schema_of_json\n"
   ]
  },
  {
   "cell_type": "code",
   "execution_count": null,
   "id": "ca2db85b-dcfe-4278-8063-31311aac0b5f",
   "metadata": {},
   "outputs": [
    {
     "name": "stderr",
     "output_type": "stream",
     "text": [
      "                                                                                \r"
     ]
    },
    {
     "name": "stdout",
     "output_type": "stream",
     "text": [
      "-------------------------------------------\n",
      "Batch: 1\n",
      "-------------------------------------------\n",
      "+----+-----+------------+\n",
      "| key|value|parsed_value|\n",
      "+----+-----+------------+\n",
      "|NULL|  b,a|{NULL, NULL}|\n",
      "+----+-----+------------+\n",
      "\n"
     ]
    },
    {
     "name": "stderr",
     "output_type": "stream",
     "text": [
      "                                                                                \r"
     ]
    },
    {
     "name": "stdout",
     "output_type": "stream",
     "text": [
      "-------------------------------------------\n",
      "Batch: 2\n",
      "-------------------------------------------\n",
      "+----+-----+------------+\n",
      "| key|value|parsed_value|\n",
      "+----+-----+------------+\n",
      "|NULL|{a,b}|{NULL, NULL}|\n",
      "+----+-----+------------+\n",
      "\n"
     ]
    },
    {
     "name": "stderr",
     "output_type": "stream",
     "text": [
      "                                                                                \r"
     ]
    },
    {
     "name": "stdout",
     "output_type": "stream",
     "text": [
      "-------------------------------------------\n",
      "Batch: 3\n",
      "-------------------------------------------\n",
      "+----+-----+------------+\n",
      "| key|value|parsed_value|\n",
      "+----+-----+------------+\n",
      "|NULL| exit|{NULL, NULL}|\n",
      "+----+-----+------------+\n",
      "\n"
     ]
    }
   ],
   "source": [
    "# Define the schema for the JSON data\n",
    "json_schema = \"STRUCT<key: STRING, value: STRING>\"\n",
    "\n",
    "# Start a streaming query that writes to the console\n",
    "query = df.selectExpr(\"CAST(key AS STRING)\", \"CAST(value AS STRING)\") \\\n",
    "          .withColumn(\"parsed_value\", from_json(col(\"value\"), json_schema)) \\\n",
    "          .writeStream \\\n",
    "          .outputMode(\"append\") \\\n",
    "          .format(\"console\") \\\n",
    "          .start()\n",
    "\n",
    "# Wait for the termination signal to keep the stream open\n",
    "query.awaitTermination()\n"
   ]
  },
  {
   "cell_type": "code",
   "execution_count": null,
   "id": "6ce1b1e0-5870-4410-9a62-e32a9dcd4e06",
   "metadata": {},
   "outputs": [],
   "source": []
  }
 ],
 "metadata": {
  "kernelspec": {
   "display_name": "Python 3 (ipykernel)",
   "language": "python",
   "name": "python3"
  },
  "language_info": {
   "codemirror_mode": {
    "name": "ipython",
    "version": 3
   },
   "file_extension": ".py",
   "mimetype": "text/x-python",
   "name": "python",
   "nbconvert_exporter": "python",
   "pygments_lexer": "ipython3",
   "version": "3.10.12"
  }
 },
 "nbformat": 4,
 "nbformat_minor": 5
}
