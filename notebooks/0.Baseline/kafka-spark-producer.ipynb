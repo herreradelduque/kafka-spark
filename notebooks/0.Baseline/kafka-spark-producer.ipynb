{
 "cells": [
  {
   "cell_type": "code",
   "execution_count": 3,
   "id": "5573d9e8-ffe2-4348-b068-c17e43e88257",
   "metadata": {},
   "outputs": [],
   "source": [
    "#pip install kafka\n"
   ]
  },
  {
   "cell_type": "code",
   "execution_count": 2,
   "id": "f0bb19c4-348d-4f8e-bd59-825cc97129b6",
   "metadata": {},
   "outputs": [],
   "source": [
    "#pip install --upgrade kafka-python\n"
   ]
  },
  {
   "cell_type": "code",
   "execution_count": 7,
   "id": "1c46ded7-5b0f-46ef-b26a-7526ab2e4d04",
   "metadata": {},
   "outputs": [
    {
     "name": "stdout",
     "output_type": "stream",
     "text": [
      "2.0.2\n"
     ]
    }
   ],
   "source": [
    "import kafka\n",
    "print(kafka.__version__)"
   ]
  },
  {
   "cell_type": "code",
   "execution_count": 8,
   "id": "df7f0d52-a235-4692-b29b-d7c1459b0c31",
   "metadata": {},
   "outputs": [],
   "source": [
    "from kafka import KafkaProducer\n",
    "import json\n",
    "import time"
   ]
  },
  {
   "cell_type": "code",
   "execution_count": 9,
   "id": "a3b3040e-cb19-4457-97a9-1fe1949bfad5",
   "metadata": {},
   "outputs": [],
   "source": [
    "# Initialize Kafka producer\n",
    "producer = KafkaProducer(\n",
    "    bootstrap_servers=\"localhost:9093\",\n",
    "    value_serializer=lambda v: json.dumps(v).encode(\"utf-8\")\n",
    ")"
   ]
  },
  {
   "cell_type": "code",
   "execution_count": 10,
   "id": "f6e0f86c-4138-4f72-aa72-576fac5921c6",
   "metadata": {},
   "outputs": [],
   "source": [
    "topic = \"test0-topic\" # Replace topic variable with your target topic "
   ]
  },
  {
   "cell_type": "code",
   "execution_count": 11,
   "id": "0e16d446-b730-4fc7-a8d3-12da4e14b859",
   "metadata": {},
   "outputs": [
    {
     "name": "stdout",
     "output_type": "stream",
     "text": [
      "Sent: {'key': '0', 'value': 'message 0'}\n",
      "Sent: {'key': '1', 'value': 'message 1'}\n",
      "Sent: {'key': '2', 'value': 'message 2'}\n",
      "Sent: {'key': '3', 'value': 'message 3'}\n",
      "Sent: {'key': '4', 'value': 'message 4'}\n",
      "Sent: {'key': '5', 'value': 'message 5'}\n",
      "Sent: {'key': '6', 'value': 'message 6'}\n",
      "Sent: {'key': '7', 'value': 'message 7'}\n",
      "Sent: {'key': '8', 'value': 'message 8'}\n",
      "Sent: {'key': '9', 'value': 'message 9'}\n"
     ]
    }
   ],
   "source": [
    "# Produce messages\n",
    "for i in range(10):\n",
    "    data = {\"key\": str(i), \"value\": f\"message {i}\"}\n",
    "    producer.send(topic, value=data)  # Replace topic variable with your target topic \n",
    "    print(f\"Sent: {data}\")\n",
    "    time.sleep(1)"
   ]
  },
  {
   "cell_type": "code",
   "execution_count": 12,
   "id": "7b76b434-dfa5-4090-945d-078e82177f40",
   "metadata": {},
   "outputs": [],
   "source": [
    "producer.flush()\n",
    "producer.close()"
   ]
  },
  {
   "cell_type": "code",
   "execution_count": null,
   "id": "347a239c-2681-4179-bfe8-c48fb3cd2675",
   "metadata": {},
   "outputs": [],
   "source": []
  }
 ],
 "metadata": {
  "kernelspec": {
   "display_name": "Python (iceberg_env)",
   "language": "python",
   "name": "iceberg_env"
  },
  "language_info": {
   "codemirror_mode": {
    "name": "ipython",
    "version": 3
   },
   "file_extension": ".py",
   "mimetype": "text/x-python",
   "name": "python",
   "nbconvert_exporter": "python",
   "pygments_lexer": "ipython3",
   "version": "3.10.15"
  }
 },
 "nbformat": 4,
 "nbformat_minor": 5
}
